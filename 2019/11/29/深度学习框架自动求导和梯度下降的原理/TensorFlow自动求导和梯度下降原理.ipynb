{
 "cells": [
  {
   "cell_type": "markdown",
   "metadata": {},
   "source": [
    "## TensorFlow自动求导和梯度下降原理"
   ]
  },
  {
   "cell_type": "markdown",
   "metadata": {},
   "source": [
    "本文以华氏温度转换为摄氏温度（一元线性回归模型）为例子，讲解了深度学习框架（TensorFlow）自动求导和梯度下降的原理。文章内容分为三节，层层递进，分别是：\n",
    "1. 手动反向传播求导、手动梯度下降\n",
    "2. 自动求导，手动梯度下降\n",
    "3. 自动求导，自动梯度下降"
   ]
  },
  {
   "cell_type": "code",
   "execution_count": null,
   "metadata": {},
   "outputs": [],
   "source": [
    "%matplotlib inline\n",
    "import tensorflow as tf\n",
    "from matplotlib import pyplot as plt"
   ]
  },
  {
   "cell_type": "code",
   "execution_count": 2,
   "metadata": {},
   "outputs": [],
   "source": [
    "# 数据\n",
    "Y = [0.5,  14.0, 15.0, 28.0, 11.0,  8.0,  3.0, -4.0,  6.0, 13.0, 21.0] # 摄氏度 Celsius\n",
    "X = [35.7, 55.9, 58.2, 81.9, 56.3, 48.9, 33.9, 21.8, 48.4, 60.4, 68.4] # 华氏度 Fahrenheit"
   ]
  },
  {
   "cell_type": "code",
   "execution_count": 5,
   "metadata": {},
   "outputs": [
    {
     "data": {
      "text/plain": [
       "(<tf.Tensor: shape=(11,), dtype=float32, numpy=\n",
       " array([35.7, 55.9, 58.2, 81.9, 56.3, 48.9, 33.9, 21.8, 48.4, 60.4, 68.4],\n",
       "       dtype=float32)>, <tf.Tensor: shape=(11,), dtype=float32, numpy=\n",
       " array([ 0.5, 14. , 15. , 28. , 11. ,  8. ,  3. , -4. ,  6. , 13. , 21. ],\n",
       "       dtype=float32)>)"
      ]
     },
     "execution_count": 5,
     "metadata": {},
     "output_type": "execute_result"
    }
   ],
   "source": [
    "# 转化成张量\n",
    "Y = tf.constant(Y)\n",
    "X = tf.constant(X)\n",
    "X, Y"
   ]
  },
  {
   "cell_type": "markdown",
   "metadata": {},
   "source": [
    "模型与损失函数。这里使用最简单的一元线性回归模型和均方根损失函数"
   ]
  },
  {
   "cell_type": "code",
   "execution_count": 6,
   "metadata": {},
   "outputs": [],
   "source": [
    "def model(X, w, b):\n",
    "    return w * X + b"
   ]
  },
  {
   "cell_type": "code",
   "execution_count": 11,
   "metadata": {},
   "outputs": [],
   "source": [
    "def loss_fn(Y_hat, Y):\n",
    "    squared_diffs = (Y_hat - Y)**2\n",
    "    return tf.reduce_mean(squared_diffs)"
   ]
  },
  {
   "cell_type": "markdown",
   "metadata": {},
   "source": [
    "### 动反向传播求导、手动梯度下降"
   ]
  },
  {
   "cell_type": "code",
   "execution_count": 8,
   "metadata": {},
   "outputs": [],
   "source": [
    "# 模型参数\n",
    "w = tf.ones(1)\n",
    "b = tf.zeros(1)"
   ]
  },
  {
   "cell_type": "code",
   "execution_count": 9,
   "metadata": {},
   "outputs": [
    {
     "data": {
      "text/plain": [
       "<tf.Tensor: shape=(11,), dtype=float32, numpy=\n",
       "array([35.7, 55.9, 58.2, 81.9, 56.3, 48.9, 33.9, 21.8, 48.4, 60.4, 68.4],\n",
       "      dtype=float32)>"
      ]
     },
     "execution_count": 9,
     "metadata": {},
     "output_type": "execute_result"
    }
   ],
   "source": [
    "# 模型预测输出\n",
    "Y_hat = model(X, w, b)\n",
    "Y_hat"
   ]
  },
  {
   "cell_type": "code",
   "execution_count": 12,
   "metadata": {},
   "outputs": [
    {
     "data": {
      "text/plain": [
       "<tf.Tensor: shape=(), dtype=float32, numpy=1763.8848>"
      ]
     },
     "execution_count": 12,
     "metadata": {},
     "output_type": "execute_result"
    }
   ],
   "source": [
    "# 模型损失\n",
    "loss = loss_fn(Y_hat, Y)\n",
    "loss"
   ]
  },
  {
   "cell_type": "markdown",
   "metadata": {},
   "source": [
    "### 手动反向传播求导"
   ]
  },
  {
   "cell_type": "code",
   "execution_count": 13,
   "metadata": {},
   "outputs": [],
   "source": [
    "def dloss_fn(Y_hat, Y):\n",
    "    dsq_diffs = 2 * (Y_hat - Y)\n",
    "    return dsq_diffs"
   ]
  },
  {
   "cell_type": "code",
   "execution_count": 14,
   "metadata": {},
   "outputs": [],
   "source": [
    "def dmodel_dw(X, w, b):\n",
    "    return X"
   ]
  },
  {
   "cell_type": "code",
   "execution_count": 15,
   "metadata": {},
   "outputs": [],
   "source": [
    "def dmodel_db(X, w, b):\n",
    "    return 1.0"
   ]
  },
  {
   "cell_type": "code",
   "execution_count": 16,
   "metadata": {},
   "outputs": [],
   "source": [
    "def grad_fn(X, Y, Y_hat, w, b):\n",
    "    dloss_dw = dloss_fn(Y_hat, Y) * dmodel_dw(X, w, b)\n",
    "    dloss_db = dloss_fn(Y_hat, Y) * dmodel_db(X, w, b)\n",
    "    return tf.stack([tf.reduce_mean(dloss_dw), tf.reduce_mean(dloss_db)])"
   ]
  },
  {
   "cell_type": "code",
   "execution_count": 17,
   "metadata": {},
   "outputs": [],
   "source": [
    "def training_loop(n_epochs, learning_rate, params, X, Y, print_params=True):\n",
    "    for epoch in range(1, n_epochs + 1):\n",
    "        w, b = params\n",
    "\n",
    "        Y_hat = model(X, w, b)  # <1>\n",
    "        loss = loss_fn(Y_hat, Y)\n",
    "        grad = grad_fn(X, Y, Y_hat, w, b)  # <2>\n",
    "\n",
    "        params = params - learning_rate * grad # 手动梯度下降\n",
    "\n",
    "        if epoch % 30000 == 0:  # <3>\n",
    "            print('Epoch %d, Loss %f' % (epoch, float(loss)))\n",
    "            if print_params:\n",
    "                print('    Params:', params)\n",
    "                print('    Grad:  ', grad)\n",
    "\n",
    "        if tf.math.is_inf(loss):\n",
    "            break  # <3>\n",
    "            \n",
    "    return params"
   ]
  },
  {
   "cell_type": "code",
   "execution_count": 18,
   "metadata": {},
   "outputs": [
    {
     "name": "stdout",
     "output_type": "stream",
     "text": [
      "Epoch 30000, Loss 12.095908\n",
      "Epoch 60000, Loss 6.133891\n",
      "Epoch 90000, Loss 4.048903\n",
      "Epoch 120000, Loss 3.319792\n",
      "Epoch 150000, Loss 3.064586\n",
      "Epoch 180000, Loss 2.975681\n",
      "Epoch 210000, Loss 2.944574\n",
      "Epoch 240000, Loss 2.933552\n",
      "Epoch 270000, Loss 2.929731\n",
      "Epoch 300000, Loss 2.928472\n",
      "Epoch 330000, Loss 2.927906\n"
     ]
    },
    {
     "data": {
      "text/plain": [
       "<tf.Tensor: shape=(2,), dtype=float32, numpy=array([  0.5358124, -17.250313 ], dtype=float32)>"
      ]
     },
     "execution_count": 18,
     "metadata": {},
     "output_type": "execute_result"
    }
   ],
   "source": [
    "params = training_loop(\n",
    "    n_epochs = 330000, \n",
    "    learning_rate = 1e-4, \n",
    "    params = tf.constant([1.00, 0.01]), \n",
    "    X = X, \n",
    "    Y = Y,\n",
    "    print_params = False)\n",
    "\n",
    "params"
   ]
  },
  {
   "cell_type": "code",
   "execution_count": 19,
   "metadata": {},
   "outputs": [],
   "source": [
    "# 模型预测。根据训练后的参数进行模型预测。\n",
    "Y_hat = model(X, *params)"
   ]
  },
  {
   "cell_type": "code",
   "execution_count": 23,
   "metadata": {},
   "outputs": [
    {
     "data": {
      "text/plain": [
       "[<matplotlib.lines.Line2D at 0x7fc38cc7dfd0>]"
      ]
     },
     "execution_count": 23,
     "metadata": {},
     "output_type": "execute_result"
    },
    {
     "data": {
      "image/png": "[encoded data removed]",
      "text/plain": [
       "<Figure size 432x288 with 1 Axes>"
      ]
     },
     "metadata": {
      "needs_background": "light"
     },
     "output_type": "display_data"
    }
   ],
   "source": [
    "# 比较预测结果（直线）与标准答案（圆点）\n",
    "fig = plt.figure()\n",
    "plt.xlabel(\"X\")\n",
    "plt.ylabel(\"Y\")\n",
    "plt.plot(X.numpy(), Y_hat.numpy()) # <2>\n",
    "plt.plot(X.numpy(), Y.numpy(), 'o')"
   ]
  },
  {
   "cell_type": "markdown",
   "metadata": {},
   "source": [
    "### 自动求导，手动梯度下降"
   ]
  },
  {
   "cell_type": "code",
   "execution_count": 24,
   "metadata": {},
   "outputs": [],
   "source": [
    "# 定义模型参数\n",
    "params = tf.constant([1.00, 0.01])"
   ]
  },
  {
   "cell_type": "code",
   "execution_count": 25,
   "metadata": {},
   "outputs": [],
   "source": [
    "# 定义模型损失函数\n",
    "loss_object = tf.keras.losses.MeanSquaredError()"
   ]
  },
  {
   "cell_type": "code",
   "execution_count": 26,
   "metadata": {},
   "outputs": [],
   "source": [
    "with tf.GradientTape() as tape:\n",
    "    tape.watch(params) # 指定要求导的对象\n",
    "    Y_hat = model(X, *params)\n",
    "    loss = loss_object(Y_hat, Y) "
   ]
  },
  {
   "cell_type": "code",
   "execution_count": 27,
   "metadata": {},
   "outputs": [],
   "source": [
    "# 自动反向传播求导\n",
    "gradients = tape.gradient(loss, params)"
   ]
  },
  {
   "cell_type": "code",
   "execution_count": 28,
   "metadata": {},
   "outputs": [
    {
     "data": {
      "text/plain": [
       "<tf.Tensor: shape=(2,), dtype=float32, numpy=array([4518.333,   82.62 ], dtype=float32)>"
      ]
     },
     "execution_count": 28,
     "metadata": {},
     "output_type": "execute_result"
    }
   ],
   "source": [
    "# 查看导数值\n",
    "gradients"
   ]
  },
  {
   "cell_type": "code",
   "execution_count": 29,
   "metadata": {},
   "outputs": [],
   "source": [
    "def training_loop(n_epochs, learning_rate, params, X, Y):\n",
    "    for epoch in range(1, n_epochs + 1):\n",
    "        with tf.GradientTape() as tape:\n",
    "            tape.watch(params)\n",
    "            Y_hat = model(X, *params)\n",
    "            loss = loss_object(Y_hat, Y) \n",
    "        gradients = tape.gradient(loss, params)\n",
    "        params = params - learning_rate * gradients\n",
    "        if epoch % 30000 == 0:\n",
    "            print('Epoch %d, Loss %f' % (epoch, float(loss)))\n",
    "            \n",
    "    return params"
   ]
  },
  {
   "cell_type": "code",
   "execution_count": 30,
   "metadata": {},
   "outputs": [
    {
     "name": "stdout",
     "output_type": "stream",
     "text": [
      "Epoch 30000, Loss 12.095908\n",
      "Epoch 60000, Loss 6.133891\n",
      "Epoch 90000, Loss 4.048903\n",
      "Epoch 120000, Loss 3.319792\n",
      "Epoch 150000, Loss 3.064586\n",
      "Epoch 180000, Loss 2.975681\n",
      "Epoch 210000, Loss 2.944574\n",
      "Epoch 240000, Loss 2.933552\n",
      "Epoch 270000, Loss 2.929731\n",
      "Epoch 300000, Loss 2.928472\n",
      "Epoch 330000, Loss 2.927906\n"
     ]
    },
    {
     "data": {
      "text/plain": [
       "<tf.Tensor: shape=(2,), dtype=float32, numpy=array([  0.5358124, -17.250313 ], dtype=float32)>"
      ]
     },
     "execution_count": 30,
     "metadata": {},
     "output_type": "execute_result"
    }
   ],
   "source": [
    "training_loop(\n",
    "    n_epochs = 330000, \n",
    "    learning_rate = 1e-4, \n",
    "    params = tf.constant([1.00, 0.01]),\n",
    "    X = X,\n",
    "    Y = Y)"
   ]
  },
  {
   "cell_type": "markdown",
   "metadata": {},
   "source": [
    "### 自动求导，自动梯度下降"
   ]
  },
  {
   "cell_type": "code",
   "execution_count": 31,
   "metadata": {},
   "outputs": [],
   "source": [
    "def model(X, params):\n",
    "    return params[0] * X + params[1]"
   ]
  },
  {
   "cell_type": "code",
   "execution_count": 32,
   "metadata": {},
   "outputs": [],
   "source": [
    "def loss_fn(Y_hat, Y):\n",
    "    squared_diffs = (Y_hat - Y)**2\n",
    "    return tf.reduce_mean(squared_diffs)"
   ]
  },
  {
   "cell_type": "code",
   "execution_count": 33,
   "metadata": {},
   "outputs": [],
   "source": [
    "# 定义模型参数、损失函数、优化器\n",
    "params = tf.Variable([1.00, 0.01])\n",
    "loss_object = tf.keras.losses.MeanSquaredError()\n",
    "optimizer = tf.keras.optimizers.SGD(learning_rate=1e-4)"
   ]
  },
  {
   "cell_type": "code",
   "execution_count": 34,
   "metadata": {},
   "outputs": [],
   "source": [
    "with tf.GradientTape() as tape:\n",
    "    tape.watch(params)\n",
    "    Y_hat = model(X, params)\n",
    "    loss = loss_object(Y_hat, Y) "
   ]
  },
  {
   "cell_type": "code",
   "execution_count": 35,
   "metadata": {},
   "outputs": [],
   "source": [
    "# 自动反向传播求导\n",
    "gradients = tape.gradient(loss, params)"
   ]
  },
  {
   "cell_type": "code",
   "execution_count": 36,
   "metadata": {},
   "outputs": [
    {
     "data": {
      "text/plain": [
       "<tf.Tensor: shape=(2,), dtype=float32, numpy=array([4518.333,   82.62 ], dtype=float32)>"
      ]
     },
     "execution_count": 36,
     "metadata": {},
     "output_type": "execute_result"
    }
   ],
   "source": [
    "# 查看导数值\n",
    "gradients"
   ]
  },
  {
   "cell_type": "code",
   "execution_count": 37,
   "metadata": {},
   "outputs": [
    {
     "data": {
      "text/plain": [
       "<tf.Variable 'Variable:0' shape=(2,) dtype=float32, numpy=array([1.  , 0.01], dtype=float32)>"
      ]
     },
     "execution_count": 37,
     "metadata": {},
     "output_type": "execute_result"
    }
   ],
   "source": [
    "# 查看参数值\n",
    "params"
   ]
  },
  {
   "cell_type": "code",
   "execution_count": 38,
   "metadata": {},
   "outputs": [
    {
     "data": {
      "text/plain": [
       "<tf.Variable 'UnreadVariable' shape=() dtype=int64, numpy=1>"
      ]
     },
     "execution_count": 38,
     "metadata": {},
     "output_type": "execute_result"
    }
   ],
   "source": [
    "# 自动梯度下降\n",
    "optimizer.apply_gradients(zip([gradients], [params]))"
   ]
  },
  {
   "cell_type": "code",
   "execution_count": 39,
   "metadata": {},
   "outputs": [
    {
     "data": {
      "text/plain": [
       "<tf.Variable 'Variable:0' shape=(2,) dtype=float32, numpy=array([0.54816675, 0.001738  ], dtype=float32)>"
      ]
     },
     "execution_count": 39,
     "metadata": {},
     "output_type": "execute_result"
    }
   ],
   "source": [
    "# 查看自动梯度下降后的参数值\n",
    "params"
   ]
  },
  {
   "cell_type": "code",
   "execution_count": 40,
   "metadata": {},
   "outputs": [],
   "source": [
    "def training_loop(n_epochs, params, X, Y):\n",
    "    for epoch in range(1, n_epochs + 1):\n",
    "        with tf.GradientTape() as tape:\n",
    "            tape.watch(params)\n",
    "            Y_hat = model(X, params)\n",
    "            loss = loss_object(Y_hat, Y) \n",
    "        gradients = tape.gradient(loss, params)\n",
    "        optimizer.apply_gradients(zip([gradients], [params]))\n",
    "        if epoch % 30000 == 0:\n",
    "            print('Epoch %d, Loss %f' % (epoch, float(loss)))\n",
    "            \n",
    "    return params"
   ]
  },
  {
   "cell_type": "code",
   "execution_count": 41,
   "metadata": {},
   "outputs": [
    {
     "name": "stdout",
     "output_type": "stream",
     "text": [
      "Epoch 30000, Loss 12.095908\n",
      "Epoch 60000, Loss 6.133891\n",
      "Epoch 90000, Loss 4.048903\n",
      "Epoch 120000, Loss 3.319792\n",
      "Epoch 150000, Loss 3.064586\n",
      "Epoch 180000, Loss 2.975681\n",
      "Epoch 210000, Loss 2.944574\n",
      "Epoch 240000, Loss 2.933552\n",
      "Epoch 270000, Loss 2.929731\n",
      "Epoch 300000, Loss 2.928472\n",
      "Epoch 330000, Loss 2.927906\n"
     ]
    },
    {
     "data": {
      "text/plain": [
       "<tf.Variable 'Variable:0' shape=(2,) dtype=float32, numpy=array([  0.5358124, -17.250313 ], dtype=float32)>"
      ]
     },
     "execution_count": 41,
     "metadata": {},
     "output_type": "execute_result"
    }
   ],
   "source": [
    "training_loop(\n",
    "    n_epochs = 330000, \n",
    "    params = tf.Variable([1.00, 0.01]),\n",
    "    X = X,\n",
    "    Y = Y)"
   ]
  }
 ],
 "metadata": {
  "kernelspec": {
   "display_name": "Python 3",
   "language": "python",
   "name": "python3"
  },
  "language_info": {
   "codemirror_mode": {
    "name": "ipython",
    "version": 3
   },
   "file_extension": ".py",
   "mimetype": "text/x-python",
   "name": "python",
   "nbconvert_exporter": "python",
   "pygments_lexer": "ipython3",
   "version": "3.7.4"
  }
 },
 "nbformat": 4,
 "nbformat_minor": 4
}
